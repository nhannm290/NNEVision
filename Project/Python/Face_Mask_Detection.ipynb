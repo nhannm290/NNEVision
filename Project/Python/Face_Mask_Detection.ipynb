{
  "nbformat": 4,
  "nbformat_minor": 0,
  "metadata": {
    "colab": {
      "name": "Face-Mask-Detection.ipynb",
      "provenance": [],
      "collapsed_sections": [],
      "toc_visible": true
    },
    "kernelspec": {
      "name": "python3",
      "display_name": "Python 3"
    },
    "accelerator": "GPU"
  },
  "cells": [
    {
      "cell_type": "markdown",
      "metadata": {
        "id": "2bv5h4xI2j1g"
      },
      "source": [
        "# **Objective and problem statement**\n",
        "<br>\n",
        "\n",
        "> ### **The coronavirus: why do we need stricter measures?**\n",
        "The coronavirus was declared a pandemic by WHO on March 11th, 2020, and by that time, we already had 118,000 confirmed cases and had spread to 114 countries around the globe. Since then, due to a variety of reasons some of which include strict measures not being put into place and government negligence, we have seen these figures blown out of proportions.  Currently, at the time of writing this, we have 13.7 million confirmed cases and near 586,000 deaths worldwide. While some factors can be eluded as being not being under our control as individuals, we cannot say that face masks do not have a big role to play in controlling this pandemic.\n",
        "<br>\n",
        "<br>\n",
        "<br>\n",
        "\n",
        "> ### - **So, why are masks effective?** \n",
        "(***and why is it not a personal choice to wear masks in public places?***)....<br>\n",
        "Upon wearing the face mask, we as the source of infection reduce the number of droplets ejected by 99 percent according to confirmed studies. It also reduces the intake of number of droplets by an uninfected individual, though not as effective. Yet, if we reduce the number of people getting infected, it also reduces the effective reproduction rate, and hence having an impact of exponential margins.\n",
        "Nearly half of the infected people do not show symptoms as per recent studies, which can take up to a period of 14 days to appear in an infected individual. Hence, it is really necessary for wearing masks by people in public places, and should really be made mandatory rather than being based on individual decisions, as a significant portion of people with infection lack coronavirus symptoms.\n",
        "We cannot wait for a controlled trial of a vaccination to be successful for us to be taking all the preventive steps to protect ourselves and others, while contributing to stop the flow of this disease. A successful vaccination won't come till at least the mid of next year, and we cannot ascertain that it would immediately be made publicly available even then by every nation. It can be safely stated that wearing masks is not a personal choice as it can put us and people around us at risk of infection.\n",
        "<br>\n"
      ]
    },
    {
      "cell_type": "code",
      "metadata": {
        "id": "ioKLfJMa11iX"
      },
      "source": [
        "# Training data for the classification model (Mask vs Without Mask Data)\n",
        "!gdown --id 1nmLc8_Xgj7jFBffjKqsMXYXWZpiTzgut\n",
        "!unzip /content/Dataset.zip"
      ],
      "execution_count": null,
      "outputs": []
    },
    {
      "cell_type": "code",
      "metadata": {
        "id": "FHqV8D--2mhi"
      },
      "source": [
        "# Testing images for mask detection\n",
        "!gdown --id 1H3anHpuKHOJBfOU_AUZ4vci9IsCeA8Zp\n",
        "!unzip /content/CrowdMaskDetection.zip "
      ],
      "execution_count": null,
      "outputs": []
    },
    {
      "cell_type": "code",
      "metadata": {
        "id": "Cuh-G3fP2rNt"
      },
      "source": [
        "!pip install fdet==0.2.1\n",
        "!pip install youtube-dl\n",
        "!pip install -U kora"
      ],
      "execution_count": null,
      "outputs": []
    },
    {
      "cell_type": "code",
      "metadata": {
        "id": "lZhM669N2tDA"
      },
      "source": [
        "# Downloaing testing video (Change the link for testing more videos)\n",
        "!wget https://media.istockphoto.com/videos/crowd-people-using-mask-video-id1213759078"
      ],
      "execution_count": null,
      "outputs": []
    },
    {
      "cell_type": "markdown",
      "metadata": {
        "id": "JT36E18S2w4n"
      },
      "source": [
        "# **Importing Libraries**"
      ]
    },
    {
      "cell_type": "code",
      "metadata": {
        "id": "GV2lwS7x2urk"
      },
      "source": [
        "import cv2\n",
        "import tensorflow as tf\n",
        "import numpy as np\n",
        "from glob import glob\n",
        "import matplotlib.pyplot as plt\n",
        "from fdet import io, MTCNN, RetinaFace\n",
        "from fdet.utils.io import VideoHandle\n",
        "from sklearn.metrics import classification_report\n",
        "from google.colab.patches import cv2_imshow\n",
        "from sklearn.model_selection import train_test_split\n",
        "from kora.drive import upload_public\n",
        "from IPython.display import HTML"
      ],
      "execution_count": null,
      "outputs": []
    },
    {
      "cell_type": "markdown",
      "metadata": {
        "id": "eSERZhaI20Ph"
      },
      "source": [
        "# **Constants**"
      ]
    },
    {
      "cell_type": "code",
      "metadata": {
        "id": "RNpsY77Q2yCq"
      },
      "source": [
        "batch_size = 32\n",
        "epoch = 2\n",
        "num_classes = 2\n",
        "step_per_epoch = len(glob('/content/Dataset/*/*'))//batch_size\n",
        "\n",
        "image_h, image_w = 128, 128\n",
        "classes = sorted(['with_mask','without_mask'])"
      ],
      "execution_count": null,
      "outputs": []
    },
    {
      "cell_type": "markdown",
      "metadata": {
        "id": "ukH7u4tI23IG"
      },
      "source": [
        "\n",
        "# **Data Collection and Preprocessing**\n",
        "\n",
        "There were issues circumventing the data collection process, primarily the unavailability of data specific to detecting face masks as detection problem. The images did not have localized bounding boxes, and did not have category labels for the masked and without mask faces of people in the image. Due to this reason, I had to use the approach for face detection and followed by the classification of faces into mask and without mask categories.\n",
        "<br>\n",
        "\n",
        "This section can be divided into two parts, with the first part focusing solely on the part of data collection for training examples, followed by the part where I discuss the collection of testing image and video examples. This was done in separate stages to test the proposed approach in a real world crowded setting of people, the use-case for which my algorithm of mask detection is proposed, which would not have been ideal in a setting wherein the training and testing data came from the same source.\n",
        "\n",
        "<br>\n",
        "\n",
        "## **1. Data Collection for Training examples**\n",
        "As discussed earlier, there were various issues which occurred during the collection process for training examples, due to the unavailability of datasets specific to face mask detection. A solution to the same would have been using facial landmarks to detect important indicators for faces, but this idea was not used in our implementation. Finally, it was decided that my best option would be to use a data classified into two categories of images: images of people wearing masks and the ones without mask. It is important to note that the people wearing masks on their face in an incorrect manner would be classified into the \"without mask\" category. \n",
        "<br>\n",
        "Data collection was done using a variety of sources from interfaces such as Kaggle API and Bing Search. As an additional source, the Real World Masked Face Detection (RMFD) dataset was used to facilitate training of our mask detection algorithm using the classification based approach of detecting masks followed by predicting whether the detected face contains a mask or not.\n",
        "<br>\n",
        "The total number of images in the training set were divided into the two categories as follows:\n",
        "\n",
        "1. With mask: <b>8072 images</b>\n",
        "2. Without mask: <b>8086 images</b>\n",
        "\n",
        "<br>\n",
        "\n",
        "## **2. Data Collection for Inference**\n",
        "The images and video sequence collected for the purpose of testing our model had to come from a crowded setting to provide a realistic test scenario for my proposed model for mask detection. This task was accomplished using using Google search for images and available YouTube videos for the purpose of scraping the web for realistic examples suited to inference in a real world surveillance setting.\n",
        "<br>\n",
        "<br>"
      ]
    },
    {
      "cell_type": "markdown",
      "metadata": {
        "id": "7pw6-2GU25ic"
      },
      "source": [
        "# **Reading Image**\n",
        "- We need to apply transformations on the input image before defining inputs for the model architecture.\n",
        "- Transformations are done so as to ensure that the inputs to the network are of the right size and respective values sit in a similar range.\n",
        "- Input image was resized to (128,128) for (height, width) and values in the image tensor were scaled to the range of (-1,1).\n",
        "- Entire dataset was split into training and test set for cross validation. Split ratio was chose such that 90 percent of the dataset is part of the training set and 10 percent for test set."
      ]
    },
    {
      "cell_type": "code",
      "metadata": {
        "id": "RbH0BF3V26FC"
      },
      "source": [
        "def read_img(image_path):\n",
        "  img = tf.io.read_file(image_path)\n",
        "  img = tf.image.decode_image(img, channels=3)\n",
        "  img.set_shape([None,None,3])\n",
        "  img = tf.image.resize(img, [image_w, image_h])\n",
        "  img  = img/127.5-1\n",
        "  return img\n",
        "\n",
        "label_map = {v:i for i, v in enumerate(classes)}\n",
        "\n",
        "images = glob('/content/Dataset/*/*')\n",
        "np.random.shuffle(images)\n",
        "\n",
        "labels = [label_map[x.split('/')[-2]] for x in images]\n",
        "\n",
        "(train_images, test_images, train_labels, test_labels) = train_test_split(images, labels,\n",
        "\ttest_size=0.10, stratify=labels, random_state=42)\n",
        "\n",
        "#reading image and label\n",
        "def load_data(image_path, label):\n",
        "  image = read_img(image_path)\n",
        "  return image, label"
      ],
      "execution_count": null,
      "outputs": []
    },
    {
      "cell_type": "markdown",
      "metadata": {
        "id": "bK7WwdnG29R7"
      },
      "source": [
        "# **Data Generator**\n",
        "\n",
        "- Using a data generator, we can batch individual samples into a unified set.\n",
        "- Data generator spawns processes for loading data to input while training the model.\n",
        "- This function also provides parallel loading for batches in the training data using shared memory and separate process.\n"
      ]
    },
    {
      "cell_type": "code",
      "metadata": {
        "id": "NyZwxsVs29oQ"
      },
      "source": [
        "def data_generator(features,labels):\n",
        "  dataset = tf.data.Dataset.from_tensor_slices((features,labels))\n",
        "  dataset = dataset.shuffle(buffer_size=100)\n",
        "  autotune = tf.data.experimental.AUTOTUNE\n",
        "  dataset = dataset.map(load_data, num_parallel_calls=autotune)\n",
        "  dataset = dataset.batch(batch_size=batch_size)\n",
        "  dataset = dataset.repeat()\n",
        "  dataset = dataset.prefetch(autotune)\n",
        "  return dataset"
      ],
      "execution_count": null,
      "outputs": []
    },
    {
      "cell_type": "markdown",
      "metadata": {
        "id": "XoUlVE_A3CPo"
      },
      "source": [
        "#**Visualization of Classification Training Data**"
      ]
    },
    {
      "cell_type": "code",
      "metadata": {
        "id": "z2N_reE63EuB"
      },
      "source": [
        "def show_img(dataset):\n",
        "  plt.figure(figsize=(15,15))\n",
        "  for i in range(8):\n",
        "    for val in dataset.take(1):\n",
        "      img  = (val[0][i]+1)*127.5\n",
        "      plt.subplot(4,2,i+1)\n",
        "      plt.imshow(tf.cast(img,tf.uint8))\n",
        "      plt.title(val[1][i].numpy())\n",
        "      plt.subplots_adjust(hspace=1)\n",
        "  plt.show()\n",
        "\n",
        "train_dataset = data_generator(train_images,train_labels)\n",
        "\n",
        "show_img(train_dataset)"
      ],
      "execution_count": null,
      "outputs": []
    },
    {
      "cell_type": "markdown",
      "metadata": {
        "id": "vuc2fAPW3I2w"
      },
      "source": [
        "\n",
        "# **Proposed model for Face Mask Detection**\n",
        "As discussed earlier, the mask detection model can be said to be a combination of classification and face detection model.<br>\n",
        "For the purpose of classification, we use transfer learning with an Xception model trained on the ImageNet dataset with a modified final fully connected layer. While using the face detection model, several different approaches were tried upon based on existing literature, and the one which worked the best was a RetinaNet Face pre-trained model which gave the highest measures of recall while experimenting on different use-cases and testing images of people in a crowded setting.\n",
        "<br>\n",
        "The models and implementation details for them have been discussed in an objective manner as part of this section, and while providing an insight on the approach used (and why it was chosen in the first place), we delve into our final mask detection model which was built using a combination of the classification and face detection models as were briefly described above. \n",
        "<br>\n",
        "## **Model for Classification**: **Xception**\n",
        "A classification problem is, using available training data with defined features and class labels, build a function which can, with high levels of certainty categorize a new unseen set of data into one of the classes. Having only a limited amount of data available for training the classifier, I was inclined to use transfer learning for the purpose of our task of classifying an input image into the categories of whether the subject is wearing a mask or not. The transfer learning technique is probably one of the most revolutionary ideas to have come out in the past few years, and can be thought of reusing a pre-trained model, which is trained on another set of input images, which in our case would be the use of Xception model trained on the ImageNet database.\n",
        "\n",
        "#### ***A short introduction to the Xception model***:\n",
        "It is called an \"extreme version of its predecessor Inception V3\" for the reason that an efficient use of model parameters by using depth-wise separable convolutions gives better performance on the ImageNet datab. While keeping the number of parameters same in the Inception V3 and Xception model, we ensure that the capacity of the model remains the same but yielding better performance on an almost unparalleled scale, than was achieved using Inception V3 model.\n",
        "<br>\n",
        "<br>\n",
        "Some properties of the Xception model chosen in our case are discussed below:\n",
        "1. Shape invariance: similar results irrespective of the dimensions of input images (by using Global Avg pooling instaed of flatten) .\n",
        "2. Removal of final fully connected layer: Prior layers to the final fully connected layer were trained using the weights of Xception trained on the ImageNet database.\n",
        "\n",
        "\n"
      ]
    },
    {
      "cell_type": "code",
      "metadata": {
        "id": "_VT6KJ_m3Kdw",
        "colab": {
          "base_uri": "https://localhost:8080/",
          "height": 1000
        },
        "outputId": "b73addec-5e7e-4b90-b73e-6fca4ea28076"
      },
      "source": [
        "base_model = tf.keras.applications.Xception(include_top=False,\n",
        "                                       input_shape=(None, None, 3),\n",
        "                                       weights='imagenet')\n",
        "base_model.trainable = False\n",
        "layer = tf.keras.layers.GlobalAveragePooling2D()(base_model.output)\n",
        "layer = tf.keras.layers.Dense(1024, activation='relu')(layer)\n",
        "layer = tf.keras.layers.Dropout(0.5)(layer)\n",
        "output = tf.keras.layers.Dense(num_classes, activation='softmax')(layer)\n",
        "model = tf.keras.models.Model(base_model.inputs,output)\n",
        "model.summary()"
      ],
      "execution_count": null,
      "outputs": [
        {
          "output_type": "stream",
          "text": [
            "Downloading data from https://storage.googleapis.com/tensorflow/keras-applications/xception/xception_weights_tf_dim_ordering_tf_kernels_notop.h5\n",
            "83689472/83683744 [==============================] - 1s 0us/step\n",
            "Model: \"model\"\n",
            "__________________________________________________________________________________________________\n",
            "Layer (type)                    Output Shape         Param #     Connected to                     \n",
            "==================================================================================================\n",
            "input_1 (InputLayer)            [(None, None, None,  0                                            \n",
            "__________________________________________________________________________________________________\n",
            "block1_conv1 (Conv2D)           (None, None, None, 3 864         input_1[0][0]                    \n",
            "__________________________________________________________________________________________________\n",
            "block1_conv1_bn (BatchNormaliza (None, None, None, 3 128         block1_conv1[0][0]               \n",
            "__________________________________________________________________________________________________\n",
            "block1_conv1_act (Activation)   (None, None, None, 3 0           block1_conv1_bn[0][0]            \n",
            "__________________________________________________________________________________________________\n",
            "block1_conv2 (Conv2D)           (None, None, None, 6 18432       block1_conv1_act[0][0]           \n",
            "__________________________________________________________________________________________________\n",
            "block1_conv2_bn (BatchNormaliza (None, None, None, 6 256         block1_conv2[0][0]               \n",
            "__________________________________________________________________________________________________\n",
            "block1_conv2_act (Activation)   (None, None, None, 6 0           block1_conv2_bn[0][0]            \n",
            "__________________________________________________________________________________________________\n",
            "block2_sepconv1 (SeparableConv2 (None, None, None, 1 8768        block1_conv2_act[0][0]           \n",
            "__________________________________________________________________________________________________\n",
            "block2_sepconv1_bn (BatchNormal (None, None, None, 1 512         block2_sepconv1[0][0]            \n",
            "__________________________________________________________________________________________________\n",
            "block2_sepconv2_act (Activation (None, None, None, 1 0           block2_sepconv1_bn[0][0]         \n",
            "__________________________________________________________________________________________________\n",
            "block2_sepconv2 (SeparableConv2 (None, None, None, 1 17536       block2_sepconv2_act[0][0]        \n",
            "__________________________________________________________________________________________________\n",
            "block2_sepconv2_bn (BatchNormal (None, None, None, 1 512         block2_sepconv2[0][0]            \n",
            "__________________________________________________________________________________________________\n",
            "conv2d (Conv2D)                 (None, None, None, 1 8192        block1_conv2_act[0][0]           \n",
            "__________________________________________________________________________________________________\n",
            "block2_pool (MaxPooling2D)      (None, None, None, 1 0           block2_sepconv2_bn[0][0]         \n",
            "__________________________________________________________________________________________________\n",
            "batch_normalization (BatchNorma (None, None, None, 1 512         conv2d[0][0]                     \n",
            "__________________________________________________________________________________________________\n",
            "add (Add)                       (None, None, None, 1 0           block2_pool[0][0]                \n",
            "                                                                 batch_normalization[0][0]        \n",
            "__________________________________________________________________________________________________\n",
            "block3_sepconv1_act (Activation (None, None, None, 1 0           add[0][0]                        \n",
            "__________________________________________________________________________________________________\n",
            "block3_sepconv1 (SeparableConv2 (None, None, None, 2 33920       block3_sepconv1_act[0][0]        \n",
            "__________________________________________________________________________________________________\n",
            "block3_sepconv1_bn (BatchNormal (None, None, None, 2 1024        block3_sepconv1[0][0]            \n",
            "__________________________________________________________________________________________________\n",
            "block3_sepconv2_act (Activation (None, None, None, 2 0           block3_sepconv1_bn[0][0]         \n",
            "__________________________________________________________________________________________________\n",
            "block3_sepconv2 (SeparableConv2 (None, None, None, 2 67840       block3_sepconv2_act[0][0]        \n",
            "__________________________________________________________________________________________________\n",
            "block3_sepconv2_bn (BatchNormal (None, None, None, 2 1024        block3_sepconv2[0][0]            \n",
            "__________________________________________________________________________________________________\n",
            "conv2d_1 (Conv2D)               (None, None, None, 2 32768       add[0][0]                        \n",
            "__________________________________________________________________________________________________\n",
            "block3_pool (MaxPooling2D)      (None, None, None, 2 0           block3_sepconv2_bn[0][0]         \n",
            "__________________________________________________________________________________________________\n",
            "batch_normalization_1 (BatchNor (None, None, None, 2 1024        conv2d_1[0][0]                   \n",
            "__________________________________________________________________________________________________\n",
            "add_1 (Add)                     (None, None, None, 2 0           block3_pool[0][0]                \n",
            "                                                                 batch_normalization_1[0][0]      \n",
            "__________________________________________________________________________________________________\n",
            "block4_sepconv1_act (Activation (None, None, None, 2 0           add_1[0][0]                      \n",
            "__________________________________________________________________________________________________\n",
            "block4_sepconv1 (SeparableConv2 (None, None, None, 7 188672      block4_sepconv1_act[0][0]        \n",
            "__________________________________________________________________________________________________\n",
            "block4_sepconv1_bn (BatchNormal (None, None, None, 7 2912        block4_sepconv1[0][0]            \n",
            "__________________________________________________________________________________________________\n",
            "block4_sepconv2_act (Activation (None, None, None, 7 0           block4_sepconv1_bn[0][0]         \n",
            "__________________________________________________________________________________________________\n",
            "block4_sepconv2 (SeparableConv2 (None, None, None, 7 536536      block4_sepconv2_act[0][0]        \n",
            "__________________________________________________________________________________________________\n",
            "block4_sepconv2_bn (BatchNormal (None, None, None, 7 2912        block4_sepconv2[0][0]            \n",
            "__________________________________________________________________________________________________\n",
            "conv2d_2 (Conv2D)               (None, None, None, 7 186368      add_1[0][0]                      \n",
            "__________________________________________________________________________________________________\n",
            "block4_pool (MaxPooling2D)      (None, None, None, 7 0           block4_sepconv2_bn[0][0]         \n",
            "__________________________________________________________________________________________________\n",
            "batch_normalization_2 (BatchNor (None, None, None, 7 2912        conv2d_2[0][0]                   \n",
            "__________________________________________________________________________________________________\n",
            "add_2 (Add)                     (None, None, None, 7 0           block4_pool[0][0]                \n",
            "                                                                 batch_normalization_2[0][0]      \n",
            "__________________________________________________________________________________________________\n",
            "block5_sepconv1_act (Activation (None, None, None, 7 0           add_2[0][0]                      \n",
            "__________________________________________________________________________________________________\n",
            "block5_sepconv1 (SeparableConv2 (None, None, None, 7 536536      block5_sepconv1_act[0][0]        \n",
            "__________________________________________________________________________________________________\n",
            "block5_sepconv1_bn (BatchNormal (None, None, None, 7 2912        block5_sepconv1[0][0]            \n",
            "__________________________________________________________________________________________________\n",
            "block5_sepconv2_act (Activation (None, None, None, 7 0           block5_sepconv1_bn[0][0]         \n",
            "__________________________________________________________________________________________________\n",
            "block5_sepconv2 (SeparableConv2 (None, None, None, 7 536536      block5_sepconv2_act[0][0]        \n",
            "__________________________________________________________________________________________________\n",
            "block5_sepconv2_bn (BatchNormal (None, None, None, 7 2912        block5_sepconv2[0][0]            \n",
            "__________________________________________________________________________________________________\n",
            "block5_sepconv3_act (Activation (None, None, None, 7 0           block5_sepconv2_bn[0][0]         \n",
            "__________________________________________________________________________________________________\n",
            "block5_sepconv3 (SeparableConv2 (None, None, None, 7 536536      block5_sepconv3_act[0][0]        \n",
            "__________________________________________________________________________________________________\n",
            "block5_sepconv3_bn (BatchNormal (None, None, None, 7 2912        block5_sepconv3[0][0]            \n",
            "__________________________________________________________________________________________________\n",
            "add_3 (Add)                     (None, None, None, 7 0           block5_sepconv3_bn[0][0]         \n",
            "                                                                 add_2[0][0]                      \n",
            "__________________________________________________________________________________________________\n",
            "block6_sepconv1_act (Activation (None, None, None, 7 0           add_3[0][0]                      \n",
            "__________________________________________________________________________________________________\n",
            "block6_sepconv1 (SeparableConv2 (None, None, None, 7 536536      block6_sepconv1_act[0][0]        \n",
            "__________________________________________________________________________________________________\n",
            "block6_sepconv1_bn (BatchNormal (None, None, None, 7 2912        block6_sepconv1[0][0]            \n",
            "__________________________________________________________________________________________________\n",
            "block6_sepconv2_act (Activation (None, None, None, 7 0           block6_sepconv1_bn[0][0]         \n",
            "__________________________________________________________________________________________________\n",
            "block6_sepconv2 (SeparableConv2 (None, None, None, 7 536536      block6_sepconv2_act[0][0]        \n",
            "__________________________________________________________________________________________________\n",
            "block6_sepconv2_bn (BatchNormal (None, None, None, 7 2912        block6_sepconv2[0][0]            \n",
            "__________________________________________________________________________________________________\n",
            "block6_sepconv3_act (Activation (None, None, None, 7 0           block6_sepconv2_bn[0][0]         \n",
            "__________________________________________________________________________________________________\n",
            "block6_sepconv3 (SeparableConv2 (None, None, None, 7 536536      block6_sepconv3_act[0][0]        \n",
            "__________________________________________________________________________________________________\n",
            "block6_sepconv3_bn (BatchNormal (None, None, None, 7 2912        block6_sepconv3[0][0]            \n",
            "__________________________________________________________________________________________________\n",
            "add_4 (Add)                     (None, None, None, 7 0           block6_sepconv3_bn[0][0]         \n",
            "                                                                 add_3[0][0]                      \n",
            "__________________________________________________________________________________________________\n",
            "block7_sepconv1_act (Activation (None, None, None, 7 0           add_4[0][0]                      \n",
            "__________________________________________________________________________________________________\n",
            "block7_sepconv1 (SeparableConv2 (None, None, None, 7 536536      block7_sepconv1_act[0][0]        \n",
            "__________________________________________________________________________________________________\n",
            "block7_sepconv1_bn (BatchNormal (None, None, None, 7 2912        block7_sepconv1[0][0]            \n",
            "__________________________________________________________________________________________________\n",
            "block7_sepconv2_act (Activation (None, None, None, 7 0           block7_sepconv1_bn[0][0]         \n",
            "__________________________________________________________________________________________________\n",
            "block7_sepconv2 (SeparableConv2 (None, None, None, 7 536536      block7_sepconv2_act[0][0]        \n",
            "__________________________________________________________________________________________________\n",
            "block7_sepconv2_bn (BatchNormal (None, None, None, 7 2912        block7_sepconv2[0][0]            \n",
            "__________________________________________________________________________________________________\n",
            "block7_sepconv3_act (Activation (None, None, None, 7 0           block7_sepconv2_bn[0][0]         \n",
            "__________________________________________________________________________________________________\n",
            "block7_sepconv3 (SeparableConv2 (None, None, None, 7 536536      block7_sepconv3_act[0][0]        \n",
            "__________________________________________________________________________________________________\n",
            "block7_sepconv3_bn (BatchNormal (None, None, None, 7 2912        block7_sepconv3[0][0]            \n",
            "__________________________________________________________________________________________________\n",
            "add_5 (Add)                     (None, None, None, 7 0           block7_sepconv3_bn[0][0]         \n",
            "                                                                 add_4[0][0]                      \n",
            "__________________________________________________________________________________________________\n",
            "block8_sepconv1_act (Activation (None, None, None, 7 0           add_5[0][0]                      \n",
            "__________________________________________________________________________________________________\n",
            "block8_sepconv1 (SeparableConv2 (None, None, None, 7 536536      block8_sepconv1_act[0][0]        \n",
            "__________________________________________________________________________________________________\n",
            "block8_sepconv1_bn (BatchNormal (None, None, None, 7 2912        block8_sepconv1[0][0]            \n",
            "__________________________________________________________________________________________________\n",
            "block8_sepconv2_act (Activation (None, None, None, 7 0           block8_sepconv1_bn[0][0]         \n",
            "__________________________________________________________________________________________________\n",
            "block8_sepconv2 (SeparableConv2 (None, None, None, 7 536536      block8_sepconv2_act[0][0]        \n",
            "__________________________________________________________________________________________________\n",
            "block8_sepconv2_bn (BatchNormal (None, None, None, 7 2912        block8_sepconv2[0][0]            \n",
            "__________________________________________________________________________________________________\n",
            "block8_sepconv3_act (Activation (None, None, None, 7 0           block8_sepconv2_bn[0][0]         \n",
            "__________________________________________________________________________________________________\n",
            "block8_sepconv3 (SeparableConv2 (None, None, None, 7 536536      block8_sepconv3_act[0][0]        \n",
            "__________________________________________________________________________________________________\n",
            "block8_sepconv3_bn (BatchNormal (None, None, None, 7 2912        block8_sepconv3[0][0]            \n",
            "__________________________________________________________________________________________________\n",
            "add_6 (Add)                     (None, None, None, 7 0           block8_sepconv3_bn[0][0]         \n",
            "                                                                 add_5[0][0]                      \n",
            "__________________________________________________________________________________________________\n",
            "block9_sepconv1_act (Activation (None, None, None, 7 0           add_6[0][0]                      \n",
            "__________________________________________________________________________________________________\n",
            "block9_sepconv1 (SeparableConv2 (None, None, None, 7 536536      block9_sepconv1_act[0][0]        \n",
            "__________________________________________________________________________________________________\n",
            "block9_sepconv1_bn (BatchNormal (None, None, None, 7 2912        block9_sepconv1[0][0]            \n",
            "__________________________________________________________________________________________________\n",
            "block9_sepconv2_act (Activation (None, None, None, 7 0           block9_sepconv1_bn[0][0]         \n",
            "__________________________________________________________________________________________________\n",
            "block9_sepconv2 (SeparableConv2 (None, None, None, 7 536536      block9_sepconv2_act[0][0]        \n",
            "__________________________________________________________________________________________________\n",
            "block9_sepconv2_bn (BatchNormal (None, None, None, 7 2912        block9_sepconv2[0][0]            \n",
            "__________________________________________________________________________________________________\n",
            "block9_sepconv3_act (Activation (None, None, None, 7 0           block9_sepconv2_bn[0][0]         \n",
            "__________________________________________________________________________________________________\n",
            "block9_sepconv3 (SeparableConv2 (None, None, None, 7 536536      block9_sepconv3_act[0][0]        \n",
            "__________________________________________________________________________________________________\n",
            "block9_sepconv3_bn (BatchNormal (None, None, None, 7 2912        block9_sepconv3[0][0]            \n",
            "__________________________________________________________________________________________________\n",
            "add_7 (Add)                     (None, None, None, 7 0           block9_sepconv3_bn[0][0]         \n",
            "                                                                 add_6[0][0]                      \n",
            "__________________________________________________________________________________________________\n",
            "block10_sepconv1_act (Activatio (None, None, None, 7 0           add_7[0][0]                      \n",
            "__________________________________________________________________________________________________\n",
            "block10_sepconv1 (SeparableConv (None, None, None, 7 536536      block10_sepconv1_act[0][0]       \n",
            "__________________________________________________________________________________________________\n",
            "block10_sepconv1_bn (BatchNorma (None, None, None, 7 2912        block10_sepconv1[0][0]           \n",
            "__________________________________________________________________________________________________\n",
            "block10_sepconv2_act (Activatio (None, None, None, 7 0           block10_sepconv1_bn[0][0]        \n",
            "__________________________________________________________________________________________________\n",
            "block10_sepconv2 (SeparableConv (None, None, None, 7 536536      block10_sepconv2_act[0][0]       \n",
            "__________________________________________________________________________________________________\n",
            "block10_sepconv2_bn (BatchNorma (None, None, None, 7 2912        block10_sepconv2[0][0]           \n",
            "__________________________________________________________________________________________________\n",
            "block10_sepconv3_act (Activatio (None, None, None, 7 0           block10_sepconv2_bn[0][0]        \n",
            "__________________________________________________________________________________________________\n",
            "block10_sepconv3 (SeparableConv (None, None, None, 7 536536      block10_sepconv3_act[0][0]       \n",
            "__________________________________________________________________________________________________\n",
            "block10_sepconv3_bn (BatchNorma (None, None, None, 7 2912        block10_sepconv3[0][0]           \n",
            "__________________________________________________________________________________________________\n",
            "add_8 (Add)                     (None, None, None, 7 0           block10_sepconv3_bn[0][0]        \n",
            "                                                                 add_7[0][0]                      \n",
            "__________________________________________________________________________________________________\n",
            "block11_sepconv1_act (Activatio (None, None, None, 7 0           add_8[0][0]                      \n",
            "__________________________________________________________________________________________________\n",
            "block11_sepconv1 (SeparableConv (None, None, None, 7 536536      block11_sepconv1_act[0][0]       \n",
            "__________________________________________________________________________________________________\n",
            "block11_sepconv1_bn (BatchNorma (None, None, None, 7 2912        block11_sepconv1[0][0]           \n",
            "__________________________________________________________________________________________________\n",
            "block11_sepconv2_act (Activatio (None, None, None, 7 0           block11_sepconv1_bn[0][0]        \n",
            "__________________________________________________________________________________________________\n",
            "block11_sepconv2 (SeparableConv (None, None, None, 7 536536      block11_sepconv2_act[0][0]       \n",
            "__________________________________________________________________________________________________\n",
            "block11_sepconv2_bn (BatchNorma (None, None, None, 7 2912        block11_sepconv2[0][0]           \n",
            "__________________________________________________________________________________________________\n",
            "block11_sepconv3_act (Activatio (None, None, None, 7 0           block11_sepconv2_bn[0][0]        \n",
            "__________________________________________________________________________________________________\n",
            "block11_sepconv3 (SeparableConv (None, None, None, 7 536536      block11_sepconv3_act[0][0]       \n",
            "__________________________________________________________________________________________________\n",
            "block11_sepconv3_bn (BatchNorma (None, None, None, 7 2912        block11_sepconv3[0][0]           \n",
            "__________________________________________________________________________________________________\n",
            "add_9 (Add)                     (None, None, None, 7 0           block11_sepconv3_bn[0][0]        \n",
            "                                                                 add_8[0][0]                      \n",
            "__________________________________________________________________________________________________\n",
            "block12_sepconv1_act (Activatio (None, None, None, 7 0           add_9[0][0]                      \n",
            "__________________________________________________________________________________________________\n",
            "block12_sepconv1 (SeparableConv (None, None, None, 7 536536      block12_sepconv1_act[0][0]       \n",
            "__________________________________________________________________________________________________\n",
            "block12_sepconv1_bn (BatchNorma (None, None, None, 7 2912        block12_sepconv1[0][0]           \n",
            "__________________________________________________________________________________________________\n",
            "block12_sepconv2_act (Activatio (None, None, None, 7 0           block12_sepconv1_bn[0][0]        \n",
            "__________________________________________________________________________________________________\n",
            "block12_sepconv2 (SeparableConv (None, None, None, 7 536536      block12_sepconv2_act[0][0]       \n",
            "__________________________________________________________________________________________________\n",
            "block12_sepconv2_bn (BatchNorma (None, None, None, 7 2912        block12_sepconv2[0][0]           \n",
            "__________________________________________________________________________________________________\n",
            "block12_sepconv3_act (Activatio (None, None, None, 7 0           block12_sepconv2_bn[0][0]        \n",
            "__________________________________________________________________________________________________\n",
            "block12_sepconv3 (SeparableConv (None, None, None, 7 536536      block12_sepconv3_act[0][0]       \n",
            "__________________________________________________________________________________________________\n",
            "block12_sepconv3_bn (BatchNorma (None, None, None, 7 2912        block12_sepconv3[0][0]           \n",
            "__________________________________________________________________________________________________\n",
            "add_10 (Add)                    (None, None, None, 7 0           block12_sepconv3_bn[0][0]        \n",
            "                                                                 add_9[0][0]                      \n",
            "__________________________________________________________________________________________________\n",
            "block13_sepconv1_act (Activatio (None, None, None, 7 0           add_10[0][0]                     \n",
            "__________________________________________________________________________________________________\n",
            "block13_sepconv1 (SeparableConv (None, None, None, 7 536536      block13_sepconv1_act[0][0]       \n",
            "__________________________________________________________________________________________________\n",
            "block13_sepconv1_bn (BatchNorma (None, None, None, 7 2912        block13_sepconv1[0][0]           \n",
            "__________________________________________________________________________________________________\n",
            "block13_sepconv2_act (Activatio (None, None, None, 7 0           block13_sepconv1_bn[0][0]        \n",
            "__________________________________________________________________________________________________\n",
            "block13_sepconv2 (SeparableConv (None, None, None, 1 752024      block13_sepconv2_act[0][0]       \n",
            "__________________________________________________________________________________________________\n",
            "block13_sepconv2_bn (BatchNorma (None, None, None, 1 4096        block13_sepconv2[0][0]           \n",
            "__________________________________________________________________________________________________\n",
            "conv2d_3 (Conv2D)               (None, None, None, 1 745472      add_10[0][0]                     \n",
            "__________________________________________________________________________________________________\n",
            "block13_pool (MaxPooling2D)     (None, None, None, 1 0           block13_sepconv2_bn[0][0]        \n",
            "__________________________________________________________________________________________________\n",
            "batch_normalization_3 (BatchNor (None, None, None, 1 4096        conv2d_3[0][0]                   \n",
            "__________________________________________________________________________________________________\n",
            "add_11 (Add)                    (None, None, None, 1 0           block13_pool[0][0]               \n",
            "                                                                 batch_normalization_3[0][0]      \n",
            "__________________________________________________________________________________________________\n",
            "block14_sepconv1 (SeparableConv (None, None, None, 1 1582080     add_11[0][0]                     \n",
            "__________________________________________________________________________________________________\n",
            "block14_sepconv1_bn (BatchNorma (None, None, None, 1 6144        block14_sepconv1[0][0]           \n",
            "__________________________________________________________________________________________________\n",
            "block14_sepconv1_act (Activatio (None, None, None, 1 0           block14_sepconv1_bn[0][0]        \n",
            "__________________________________________________________________________________________________\n",
            "block14_sepconv2 (SeparableConv (None, None, None, 2 3159552     block14_sepconv1_act[0][0]       \n",
            "__________________________________________________________________________________________________\n",
            "block14_sepconv2_bn (BatchNorma (None, None, None, 2 8192        block14_sepconv2[0][0]           \n",
            "__________________________________________________________________________________________________\n",
            "block14_sepconv2_act (Activatio (None, None, None, 2 0           block14_sepconv2_bn[0][0]        \n",
            "__________________________________________________________________________________________________\n",
            "global_average_pooling2d (Globa (None, 2048)         0           block14_sepconv2_act[0][0]       \n",
            "__________________________________________________________________________________________________\n",
            "dense (Dense)                   (None, 1024)         2098176     global_average_pooling2d[0][0]   \n",
            "__________________________________________________________________________________________________\n",
            "dropout (Dropout)               (None, 1024)         0           dense[0][0]                      \n",
            "__________________________________________________________________________________________________\n",
            "dense_1 (Dense)                 (None, 2)            2050        dropout[0][0]                    \n",
            "==================================================================================================\n",
            "Total params: 22,961,706\n",
            "Trainable params: 2,100,226\n",
            "Non-trainable params: 20,861,480\n",
            "__________________________________________________________________________________________________\n"
          ],
          "name": "stdout"
        }
      ]
    },
    {
      "cell_type": "markdown",
      "metadata": {
        "id": "NHtTUClo3Myp"
      },
      "source": [
        "# **Model fitting**\n",
        "\n",
        "Implementation details for classification architecture:\n",
        "- ***Batch Size***: 32 <br>\n",
        "\n",
        "- ***Epochs***: 2 <br>\n",
        "\n",
        "- ***Learning rate***: 1e-4 (with decay of 1e-4 / epoch)<br>\n",
        "\n",
        "- ***Gradient Descent Optimizer***: Adam<br>\n",
        "\n",
        "- ***Loss function***: Sparse categorical cross entropy<br>\n",
        "\n",
        "- ***Criterion for evaluation*** (metric): F1-score<br>"
      ]
    },
    {
      "cell_type": "code",
      "metadata": {
        "id": "EDCs_-Rd3Of8",
        "colab": {
          "base_uri": "https://localhost:8080/",
          "height": 102
        },
        "outputId": "2d81f9c2-a104-4fba-df7b-1a2be878db4e"
      },
      "source": [
        "#We can use learning rate scheduler here like Cyclical Learning Rate(available in Tf Addons)\n",
        "model.compile(optimizer=tf.keras.optimizers.Adam(1e-4, decay=1e-4 / epoch),\n",
        "              loss='sparse_categorical_crossentropy',\n",
        "              metrics=['accuracy'])\n",
        "\n",
        "callbacks = [\n",
        "    tf.keras.callbacks.ModelCheckpoint('mask_classification_model.h5', \n",
        "                                       save_best_only=True, \n",
        "                                       save_weights_only=True,\n",
        "                                       monitor='loss')]\n",
        "\n",
        "model.fit(train_dataset,\n",
        "          batch_size=batch_size,\n",
        "          epochs=epoch,steps_per_epoch=step_per_epoch,\n",
        "          callbacks=callbacks)"
      ],
      "execution_count": null,
      "outputs": [
        {
          "output_type": "stream",
          "text": [
            "Epoch 1/2\n",
            "504/504 [==============================] - 28s 56ms/step - loss: 0.0410 - accuracy: 0.9866\n",
            "Epoch 2/2\n",
            "504/504 [==============================] - 29s 59ms/step - loss: 0.0158 - accuracy: 0.9954\n"
          ],
          "name": "stdout"
        },
        {
          "output_type": "execute_result",
          "data": {
            "text/plain": [
              "<tensorflow.python.keras.callbacks.History at 0x7f80a67e03c8>"
            ]
          },
          "metadata": {
            "tags": []
          },
          "execution_count": 11
        }
      ]
    },
    {
      "cell_type": "markdown",
      "metadata": {
        "id": "SjYWpBUa3QnQ"
      },
      "source": [
        "# **Testing the classification model**\n"
      ]
    },
    {
      "cell_type": "code",
      "metadata": {
        "id": "bwtFuByM3Rxd"
      },
      "source": [
        "plt.figure(figsize=(15,15))\n",
        "for i in range(8):\n",
        "  for val in train_dataset.take(1):\n",
        "    plt.subplot(4,2,i+1)\n",
        "    img  = (val[0][i]+1)*127.5\n",
        "    plt.imshow(tf.cast(img,tf.uint8))\n",
        "    y_pred = model.predict(np.expand_dims(val[0][i],axis=0))\n",
        "    y_pred = np.argmax(y_pred,axis=1)\n",
        "    plt.title('Ground Truth{}, Predicted{}'.format(val[1][i],y_pred))\n",
        "    plt.subplots_adjust(wspace=1, hspace=1)\n",
        "plt.show()"
      ],
      "execution_count": null,
      "outputs": []
    },
    {
      "cell_type": "markdown",
      "metadata": {
        "id": "lVH7D96f3URd"
      },
      "source": [
        "# **Evaluation/Performance Metric**"
      ]
    },
    {
      "cell_type": "code",
      "metadata": {
        "id": "7cHW74iH3V81",
        "colab": {
          "base_uri": "https://localhost:8080/",
          "height": 170
        },
        "outputId": "916301bf-d41b-48e6-be6d-12e5400a690f"
      },
      "source": [
        "pred_labels = []\n",
        "for image_path in (test_images):\n",
        "  image = read_img(image_path)\n",
        "  y_pred = model.predict(np.expand_dims(image,axis=0))\n",
        "  y_pred = np.argmax(y_pred,axis=1)\n",
        "  pred_labels.append(y_pred)\n",
        "\n",
        "print(classification_report(test_labels, pred_labels))"
      ],
      "execution_count": null,
      "outputs": [
        {
          "output_type": "stream",
          "text": [
            "              precision    recall  f1-score   support\n",
            "\n",
            "           0       0.99      0.99      0.99       807\n",
            "           1       0.99      0.99      0.99       809\n",
            "\n",
            "    accuracy                           0.99      1616\n",
            "   macro avg       0.99      0.99      0.99      1616\n",
            "weighted avg       0.99      0.99      0.99      1616\n",
            "\n"
          ],
          "name": "stdout"
        }
      ]
    },
    {
      "cell_type": "markdown",
      "metadata": {
        "id": "rn3yak8d3W1J"
      },
      "source": [
        "# **Face Detection: RetinaNet Face**\n",
        "Face Detection is the technique of identifying human faces in digital images. While inherently a backbone to other applications, detecting a face is in fact impacted a lot in cluttered scenes, and examples of the same kind of problem can be thought of in a crowded setting, the use-case for which our mask detection algorithm is being built. For this reason, having tried various techniques from classical Computer Vision domain to using deep learning techniques, I needed to prioritize the mAP metric of detected faces in a crowded setting. Having said that, I tried techniques for face detection such as Haar cascading and MT-CNN which did not achieve a high recall. Finally, I sided with a pre-trained RetinaNet Face model, using focal loss which is able to handle the foreground-background class imbalance (an issue with one stage detectors which makes performance of single shot detectors inferior to two stage detectors for object detection) in the detected classes pretty well.\n",
        "\n",
        "<br>\n",
        "\n",
        "#### ***An brief overview on the RetinaNet model for object detection:***\n",
        "- RetinaNet uses focal loss which focuses training on hard negatives, while down-weighting easy examples, using parameters alpha and gamma which provide the hyper-parameters for focusing on hard negatives and offset class imbalance of the number of examples. \n",
        "<br>\n",
        "- As a backbone, the ResNet architecture is used to detect features from input images and a feature pyramid network is used as a fast and multiscale feature extractor on top of this backbone to create a multi-scale pyramid of features. \n",
        "<br>\n",
        "- RetinaNet is able to outperform single stage detectors for object detection such as Single Shot Multibox Detectors, while attaining the accuracy of two stage detectors such as FPN Faster-RCNN with a ResNet-101 backbone.\n",
        "\n"
      ]
    },
    {
      "cell_type": "code",
      "metadata": {
        "id": "_boMO7Yl3ZDo"
      },
      "source": [
        "class_map = {\n",
        "    0: 'With mask',\n",
        "    1: 'Without mask'\n",
        "    }\n",
        "\n",
        "color_map_video = {\n",
        "    0: (0,255,0),\n",
        "    1:(0,0,255)\n",
        "    }\n",
        "\n",
        "color_map_image = {\n",
        "    0: [0,1,0],\n",
        "    1:[1,0,0]\n",
        "    }"
      ],
      "execution_count": null,
      "outputs": []
    },
    {
      "cell_type": "markdown",
      "metadata": {
        "id": "OZcwbZR43axz"
      },
      "source": [
        "### **Improving the precision and recall** \n",
        "\n",
        "I was able to improve the precision and recall of my model by a high margin in the following ways:\n",
        "- Resizing the cropped face before providing as input to the classification model.\n",
        "- For cases wherein the dimensions for height and width of the face crops fall below a threshold, increasing the dimensions of the crop by some proportion."
      ]
    },
    {
      "cell_type": "code",
      "metadata": {
        "id": "sfJI4fRq3cWP"
      },
      "source": [
        "def visualize_detections(image, boxes):\n",
        "  \n",
        "  figsize=(7, 7)\n",
        "  linewidth=1\n",
        "\n",
        "  image = np.array(image, dtype=np.uint8)\n",
        "\n",
        "  plt.figure(figsize=figsize)\n",
        "  plt.axis('off')\n",
        "  plt.imshow(image)\n",
        "\n",
        "  ax = plt.gca()\n",
        "\n",
        "  for box in boxes:\n",
        "    x, y, w, h = box\n",
        "  \n",
        "    face_image = image[y:y+h,x:x+w]\n",
        "    \n",
        "    #To handle those cases where the  height and width of the generated cropped face become 0\n",
        "    if face_image.shape[0] and face_image.shape[1]:\n",
        "\n",
        "      face_image = tf.image.resize(face_image, [image_w, image_h])\n",
        "      face_image = face_image/127.5-1\n",
        "\n",
        "      _cls = model.predict(np.expand_dims(face_image,axis=0))\n",
        "      _cls = np.argmax(_cls,axis=1)\n",
        "      \n",
        "      text = '{}'.format(class_map[_cls[0]])\n",
        "\n",
        "      patch = plt.Rectangle([x, y], w, h, fill=False, \n",
        "                            edgecolor=color_map_image[_cls[0]], linewidth=linewidth)\n",
        "      ax.add_patch(patch)\n",
        "      ax.text(x, y, text, bbox={'facecolor':color_map_image[_cls[0]], 'alpha':0.2}, \n",
        "          clip_box=ax.clipbox, clip_on=True)\n",
        "  \n",
        "\n",
        "def visualize_detections_video(image, boxes):\n",
        "  \n",
        "  image = np.array(image, dtype=np.uint8)\n",
        "  \n",
        "  for box in boxes:\n",
        "    x, y, w, h = box    \n",
        "    face_image = image[y:y+h,x:x+w] \n",
        "    if w<90 or h<90:\n",
        "      w = (w*0.5)+w\n",
        "      h = (h*0.5)+h\n",
        "\n",
        "    #To handle those cases where the  height and width of the generated cropped face become 0\n",
        "    if face_image.shape[0] and face_image.shape[1]:\n",
        "      face_image = tf.image.resize(face_image, [image_w, image_h])\n",
        "      face_image = face_image/127.5-1\n",
        "      \n",
        "      _cls = model.predict(np.expand_dims(face_image,axis=0))\n",
        "      _cls = np.argmax(_cls,axis=1)\n",
        "\n",
        "      text = '{}'.format(class_map[_cls[0]])    \n",
        "      start = tuple(np.array((x,y)).astype('int'))\n",
        "      end = tuple(np.array((x+w,y+h)).astype('int'))\n",
        "      \n",
        "      cv2.rectangle(image,start,end,color_map_video[_cls[0]],1)\n",
        "      cv2.putText(image, class_map[_cls[0]], start , cv2.FONT_HERSHEY_SIMPLEX, 0.4, color_map_video[_cls[0]], 1)\n",
        "  return (image)  \n"
      ],
      "execution_count": null,
      "outputs": []
    },
    {
      "cell_type": "markdown",
      "metadata": {
        "id": "BPa4UQ7440ei"
      },
      "source": [
        "\n",
        "# **Proposed Model for Face Mask Detection:**\n",
        "On any given test image of a crowd based setting of people, our final mask detection model runs as follows:\n",
        "Apply the RetinaNet Face model for face detection to generate detected face crops from the input image.\n",
        "Xception model for classification into mask and no-mask categories for the detected face is applied upon the detections generated by RetinaNet model.\n",
        "The final output of these two would be the faces detected by RetinaNet along with the predicted category for each face, that is whether the subject is wearing a mask or not.\n"
      ]
    },
    {
      "cell_type": "markdown",
      "metadata": {
        "id": "oK6x-cDg43yG"
      },
      "source": [
        "\n",
        "> ### **Testing on images of densely crowded places**\n"
      ]
    },
    {
      "cell_type": "code",
      "metadata": {
        "id": "JbeelN7d45WY"
      },
      "source": [
        "detector = RetinaFace(backbone='RESNET50')\n",
        "\n",
        "image_path = '/content/CrowdMaskDetection/*'\n",
        "\n",
        "for i in glob(image_path):\n",
        "  image = cv2.cvtColor(cv2.imread(i), cv2.COLOR_BGR2RGB)\n",
        "  \n",
        "  result = detector.detect(image)\n",
        "\n",
        "  boxes = []\n",
        "  for i in range(len(result)):\n",
        "    boxes.append(result[i]['box'])\n",
        "  boxes = np.array(boxes)\n",
        "\n",
        "  visualize_detections(image, boxes)"
      ],
      "execution_count": null,
      "outputs": []
    },
    {
      "cell_type": "markdown",
      "metadata": {
        "id": "5MCZVvaQ48mV"
      },
      "source": [
        "> ### **Testing on videos of densely crowded places**"
      ]
    },
    {
      "cell_type": "code",
      "metadata": {
        "id": "-sqSpslr493f"
      },
      "source": [
        "video_source = \"/content/crowd-people-using-mask-video-id1213759078\"\n",
        "\n",
        "cap = cv2.VideoCapture(video_source)\n",
        "img_array = []\n",
        "\n",
        "while True:\n",
        "  _, image = cap.read()\n",
        "  if not _:\n",
        "    break\n",
        "  w, h = image.shape[0], image.shape[1] \n",
        "  result = detector.detect(image)\n",
        "\n",
        "  boxes = []\n",
        "  for i in range(len(result)):\n",
        "    boxes.append(result[i]['box'])\n",
        "  boxes = np.array(boxes)\n",
        "  img=visualize_detections_video(image, boxes)\n",
        "  img_array.append(img)\n",
        " \n",
        "out = cv2.VideoWriter('/content/mask.avi', 0, 24, (h,w))\n",
        "\n",
        "for i in range(len(img_array)):\n",
        "  out.write(img_array[i])\n",
        "\n",
        "out.release()"
      ],
      "execution_count": null,
      "outputs": []
    },
    {
      "cell_type": "code",
      "metadata": {
        "id": "jydtPkEc4_dF"
      },
      "source": [
        "#For convertng avi to mp4\n",
        "!ffmpeg -i /content/mask.avi output.mp4"
      ],
      "execution_count": null,
      "outputs": []
    },
    {
      "cell_type": "code",
      "metadata": {
        "id": "NbK4QLJv5A0r"
      },
      "source": [
        "#You are required to sign in using your Google Id before running this cell\n",
        "\n",
        "url = upload_public('/content/output.mp4')\n",
        "HTML(f\"\"\"<video src={url} width=500 controls/>\"\"\")"
      ],
      "execution_count": null,
      "outputs": []
    },
    {
      "cell_type": "markdown",
      "metadata": {
        "id": "CAjzfFNa5CJ9"
      },
      "source": [
        "\n",
        "\n",
        "# **Results and Discussion**\n",
        "\n",
        "<br>\n",
        "\n",
        "> #### *Results obtained on the classification model:*\n",
        "- ***Loss***: 0.0182\n",
        "- ***F1 score*** 0.99\n",
        "<br>\n",
        "\n",
        "#### ***How does this approach fare in these conditions?***\n",
        "\n",
        "Using the before mentioned approach of face detection and classification of the detected face crops as wearing a mask or not works pretty well in crowded conditions. This is really important because the use cases for the regions of surveillance may include metropolitan complexes, metro stations and dense marketplaces. These conditions do not provide an ideal scenario for just any face detection algorithm, and it was really necessary that the right choice was made.\n",
        "> ## **Choice of RetinaNet over MT-CNN, Haar Cascade and HOG:**\n",
        "- While deciding upon the face detection algorithm to be used as part of my proposed solution of face detection, a pre-trained RetinaNet was chosen as the one which could, with the highest recall and precision, predict the number of faces in a crowded setting.\n",
        "- In an uncontrolled environment, accurate face localization remains a challenge, and I needed a model which could efficiently predict, with a very high level of certainty- the people who are not wearing a mask in a crowded setting for the mask detection algorithm to work effectively.\n",
        "- While they work good in general settings, MT-CNN (Multi Task Cascaded Convolutional Neural Network) and classical computer vision algorithms such as Haar Cascade failed to work well in an uncontrolled environment of a crowded setting with people and in dense clusters. RetinaNet with a ResNet backbone and feature pyramid network for feature extraction works even well than some single shot detectors like Single Shot MultiBox Detector and has accuracy on par with two stage detectors like Faster RCNN, and handles foreground-background class imbalance using a modified version of Focal Loss. The class imbalance was the major issue in other single shot detectors, and helps RetinaNet have a lower loss due to easy examples while focusing on hard ones.\n",
        "- This face detection model \n",
        "<u> works well in crowded settings</u>,\n",
        " which are bound to have large number of people with \n",
        "<u> 'smaller' faces </u> and with varying scale than in a general setting.\n",
        "<u> On the testing examples, it can be seen that the faces detected vary in scale but are detected with a very high recall and precision.</u>\n",
        "\n",
        "> ## **Classification model: Choice of architecture**\n",
        "Transfer learning was employed to use the model weights of the Xception model.<br>\n",
        "Learning hyperparameters such as learning rate were chosen in an iterative manner, with recommendations taken on choices of values based on available architecture.\n",
        "\n",
        ">> ### **Criterion for evaluation: F1-score**\n",
        ">> - F1-score is the harmonic mean of precision and recall. It is chosen as the criterion for evaluation for the classification model. Being bound between 0 and 1, F1-score reaches its best value at 1 and worst at 0.\n",
        ">> - My model achieves a high F1-score which shows that it can perform well in real world scenarios to classify with certainty, the mask and without mask categories on face crops.\n"
      ]
    }
  ]
}